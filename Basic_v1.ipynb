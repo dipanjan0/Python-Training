{
  "nbformat": 4,
  "nbformat_minor": 0,
  "metadata": {
    "colab": {
      "name": "Basic_v1.ipynb",
      "provenance": [],
      "authorship_tag": "ABX9TyMVjZAS74EnxCBXeK9PMgjM",
      "include_colab_link": true
    },
    "kernelspec": {
      "name": "python3",
      "display_name": "Python 3"
    }
  },
  "cells": [
    {
      "cell_type": "markdown",
      "metadata": {
        "id": "view-in-github",
        "colab_type": "text"
      },
      "source": [
        "<a href=\"https://colab.research.google.com/github/dipanjan0/Python-Training/blob/master/Basic_v1.ipynb\" target=\"_parent\"><img src=\"https://colab.research.google.com/assets/colab-badge.svg\" alt=\"Open In Colab\"/></a>"
      ]
    },
    {
      "cell_type": "markdown",
      "metadata": {
        "id": "WlW4jrjk6epf"
      },
      "source": [
        "1. Basics and Hello world\n",
        "2. Variables\n",
        "3. String operations\n",
        "4. Functions (upper, lower, len, index, replace)\n",
        "5. math functions\n",
        "6. input \n",
        "7. Lists insert, append"
      ]
    },
    {
      "cell_type": "code",
      "metadata": {
        "id": "JDeeAn2-5EJe",
        "outputId": "cb958a80-827d-4de1-cc27-9f2bf61b4f8a",
        "colab": {
          "base_uri": "https://localhost:8080/",
          "height": 34
        }
      },
      "source": [
        "print(\"hello world!\")"
      ],
      "execution_count": 1,
      "outputs": [
        {
          "output_type": "stream",
          "text": [
            "hello world!\n"
          ],
          "name": "stdout"
        }
      ]
    },
    {
      "cell_type": "code",
      "metadata": {
        "id": "6T066xcb7WN9",
        "outputId": "6f7a5cbc-91a0-41c7-93a7-6b633d166c90",
        "colab": {
          "base_uri": "https://localhost:8080/",
          "height": 85
        }
      },
      "source": [
        "print(\"Holdesobuj orangotang\")\n",
        "print(\"Itpatkel chitpotang\")\n",
        "print(\"Muskilasan uremaali\")\n",
        "print(\"Dhormotolar kormokhali\")"
      ],
      "execution_count": 2,
      "outputs": [
        {
          "output_type": "stream",
          "text": [
            "Holdesobuj orangotang\n",
            "Itpatkel chitpotang\n",
            "Muskilasan uremaali\n",
            "Dhormotolar kormokhali\n"
          ],
          "name": "stdout"
        }
      ]
    },
    {
      "cell_type": "code",
      "metadata": {
        "id": "ktYLjvWm9lAM",
        "outputId": "66d8152f-fc49-43ae-91af-1c87a7397bb0",
        "colab": {
          "base_uri": "https://localhost:8080/",
          "height": 85
        }
      },
      "source": [
        "Color_name = \"Nilsada\"\n",
        "print(Color_name + \" orangotang\")\n",
        "print(\"Itpatkel chitpotang\")\n",
        "print(\"Muskilasan uremaali\")\n",
        "print(\"Dhormotolar kormokhali\")"
      ],
      "execution_count": 4,
      "outputs": [
        {
          "output_type": "stream",
          "text": [
            "Nilsada orangotang\n",
            "Itpatkel chitpotang\n",
            "Muskilasan uremaali\n",
            "Dhormotolar kormokhali\n"
          ],
          "name": "stdout"
        }
      ]
    },
    {
      "cell_type": "code",
      "metadata": {
        "id": "sIJgweqaAfc7",
        "outputId": "0266571c-4822-431d-ea8c-32601c438676",
        "colab": {
          "base_uri": "https://localhost:8080/",
          "height": 85
        }
      },
      "source": [
        "print(\"I can sperate lines\\nlike this\")\n",
        "print(\"I can use \\\\ as an escape character\")\n",
        "print(\"I can also use \\\" with the \\\"escape character\\\"\")"
      ],
      "execution_count": 6,
      "outputs": [
        {
          "output_type": "stream",
          "text": [
            "I can sperate lines\n",
            "like this\n",
            "I can use \\ as an escape character\n",
            "I can also use\" with the \"escape character\"\n"
          ],
          "name": "stdout"
        }
      ]
    },
    {
      "cell_type": "code",
      "metadata": {
        "id": "o9bpxjX8BA5z",
        "outputId": "c6b5093a-15f9-4e65-c4a4-fb040496ef78",
        "colab": {
          "base_uri": "https://localhost:8080/",
          "height": 51
        }
      },
      "source": [
        "My_Name = \"Dipanjan\"\n",
        "print(My_Name.lower())\n",
        "len(My_Name)"
      ],
      "execution_count": 12,
      "outputs": [
        {
          "output_type": "stream",
          "text": [
            "dipanjan\n"
          ],
          "name": "stdout"
        },
        {
          "output_type": "execute_result",
          "data": {
            "text/plain": [
              "8"
            ]
          },
          "metadata": {
            "tags": []
          },
          "execution_count": 12
        }
      ]
    },
    {
      "cell_type": "code",
      "metadata": {
        "id": "Kx_xjmm8BhEE",
        "outputId": "32d9c9e6-9b5a-4a2d-bb19-5e3f2a1fd86a",
        "colab": {
          "base_uri": "https://localhost:8080/",
          "height": 35
        }
      },
      "source": [
        "My_Name[0:len(My_Name)-1]"
      ],
      "execution_count": 18,
      "outputs": [
        {
          "output_type": "execute_result",
          "data": {
            "application/vnd.google.colaboratory.intrinsic+json": {
              "type": "string"
            },
            "text/plain": [
              "'Dipanja'"
            ]
          },
          "metadata": {
            "tags": []
          },
          "execution_count": 18
        }
      ]
    },
    {
      "cell_type": "code",
      "metadata": {
        "id": "6atMuA6UBo0D",
        "outputId": "30946e1b-ac96-48d1-9cc0-d29b986784f2",
        "colab": {
          "base_uri": "https://localhost:8080/",
          "height": 52
        }
      },
      "source": [
        "My_Full_Name = \"Dipanjan Datta\"\n",
        "print(My_Name[0:My_Full_Name.index(\" \")])\n",
        "My_Full_Name.replace(\" \",\"_\")"
      ],
      "execution_count": 25,
      "outputs": [
        {
          "output_type": "stream",
          "text": [
            "Dipanjan\n"
          ],
          "name": "stdout"
        },
        {
          "output_type": "execute_result",
          "data": {
            "application/vnd.google.colaboratory.intrinsic+json": {
              "type": "string"
            },
            "text/plain": [
              "'Dipanjan_Datta'"
            ]
          },
          "metadata": {
            "tags": []
          },
          "execution_count": 25
        }
      ]
    },
    {
      "cell_type": "code",
      "metadata": {
        "id": "bmxGwVQHCdN2",
        "outputId": "111cb8f4-61f4-4890-d2b1-daf1ae40c14c",
        "colab": {
          "base_uri": "https://localhost:8080/",
          "height": 102
        }
      },
      "source": [
        "# Mod operator, gives reminder\n",
        "print(12%5)\n",
        "print(str(12%5) + \" works but the other one doesnt\")\n",
        "print(abs(-15))\n",
        "print(pow(2,3))\n",
        "print(round(10.88888,2))"
      ],
      "execution_count": 33,
      "outputs": [
        {
          "output_type": "stream",
          "text": [
            "2\n",
            "2 works but the other one doesnt\n",
            "15\n",
            "8.0\n",
            "10.89\n"
          ],
          "name": "stdout"
        }
      ]
    },
    {
      "cell_type": "code",
      "metadata": {
        "id": "10Osp81qEJDt"
      },
      "source": [
        "from math import *"
      ],
      "execution_count": 31,
      "outputs": []
    },
    {
      "cell_type": "code",
      "metadata": {
        "id": "Pzy6Ucj0F-8F",
        "outputId": "d8ed5e20-e7c6-4dbe-d240-e93cd79d590d",
        "colab": {
          "base_uri": "https://localhost:8080/",
          "height": 68
        }
      },
      "source": [
        "my_num = sqrt(2.3)\n",
        "print(my_num)\n",
        "print(floor(my_num))\n",
        "print(ceil(my_num))"
      ],
      "execution_count": 35,
      "outputs": [
        {
          "output_type": "stream",
          "text": [
            "1.51657508881031\n",
            "1\n",
            "2\n"
          ],
          "name": "stdout"
        }
      ]
    },
    {
      "cell_type": "code",
      "metadata": {
        "id": "JrXKC49RGcv6",
        "outputId": "e02be188-77e7-4044-cd70-1b0a1409f9f9",
        "colab": {
          "base_uri": "https://localhost:8080/",
          "height": 68
        }
      },
      "source": [
        "Full_Name = input(\"Give me your full name: \")\n",
        "Short_Name = Full_Name[0:Full_Name.index(\" \")]\n",
        "print(\"Thanks \"+ Full_Name +\"\\nCan I call you \" + Short_Name)"
      ],
      "execution_count": 38,
      "outputs": [
        {
          "output_type": "stream",
          "text": [
            "Give me your full name: Dipanjan Datta\n",
            "Thanks Dipanjan Datta\n",
            "Can I call you Dipanjan\n"
          ],
          "name": "stdout"
        }
      ]
    },
    {
      "cell_type": "code",
      "metadata": {
        "id": "qnvJxY1TG2Lz",
        "outputId": "20eb7738-77f2-4f0e-a2b7-2ad8cfcf1310",
        "colab": {
          "base_uri": "https://localhost:8080/",
          "height": 85
        }
      },
      "source": [
        "input_num = input(\"Give any number: \")\n",
        "my_num = sqrt(float(input_num))\n",
        "print(my_num)\n",
        "print(floor(my_num))\n",
        "print(ceil(my_num))"
      ],
      "execution_count": 39,
      "outputs": [
        {
          "output_type": "stream",
          "text": [
            "Give any number: 5\n",
            "2.23606797749979\n",
            "2\n",
            "3\n"
          ],
          "name": "stdout"
        }
      ]
    },
    {
      "cell_type": "code",
      "metadata": {
        "id": "7VJLFsb2JJiO"
      },
      "source": [
        "# Create a temperature convertor"
      ],
      "execution_count": null,
      "outputs": []
    },
    {
      "cell_type": "code",
      "metadata": {
        "id": "IAyTRzS0KKmS",
        "outputId": "78f3c4d1-5a60-4a88-ae5d-1624e15c223f",
        "colab": {
          "base_uri": "https://localhost:8080/",
          "height": 102
        }
      },
      "source": [
        "Color_name = input(\"Give me a color: \")\n",
        "print(Color_name + \" orangotang\")\n",
        "print(\"Itpatkel chitpotang\")\n",
        "print(\"Muskilasan uremaali\")\n",
        "print(\"Dhormotolar kormokhali\")"
      ],
      "execution_count": 40,
      "outputs": [
        {
          "output_type": "stream",
          "text": [
            "Give me a color: SobujMaroon\n",
            "SobujMaroon orangotang\n",
            "Itpatkel chitpotang\n",
            "Muskilasan uremaali\n",
            "Dhormotolar kormokhali\n"
          ],
          "name": "stdout"
        }
      ]
    },
    {
      "cell_type": "code",
      "metadata": {
        "id": "gAvGWsIpKUPK",
        "outputId": "a9fe2d91-a281-440c-c480-644b2e0c188c",
        "colab": {
          "base_uri": "https://localhost:8080/",
          "height": 153
        }
      },
      "source": [
        "players = [\"Messi\",\"Ronaldo\",\"Neymar\"]\n",
        "print(players[1])\n",
        "print(players[1:])\n",
        "print(players[1:2])\n",
        "players.append(\"Mbappe\")\n",
        "print(players)\n",
        "players.insert(1,\"Muller\")\n",
        "print(players)\n",
        "new_players = [\"Salah\",\"Mane\",\"De Bruyne\"]\n",
        "players.extend(new_players)\n",
        "print(players)\n",
        "players.remove('Neymar')\n",
        "print(players)\n",
        "players.pop()\n",
        "print(players)\n",
        "#players.clear()\n",
        "#print(players)"
      ],
      "execution_count": 51,
      "outputs": [
        {
          "output_type": "stream",
          "text": [
            "Ronaldo\n",
            "['Ronaldo', 'Neymar']\n",
            "['Ronaldo']\n",
            "['Messi', 'Ronaldo', 'Neymar', 'Mbappe']\n",
            "['Messi', 'Muller', 'Ronaldo', 'Neymar', 'Mbappe']\n",
            "['Messi', 'Muller', 'Ronaldo', 'Neymar', 'Mbappe', 'Salah', 'Mane', 'De Bruyne']\n",
            "['Messi', 'Muller', 'Ronaldo', 'Mbappe', 'Salah', 'Mane', 'De Bruyne']\n",
            "['Messi', 'Muller', 'Ronaldo', 'Mbappe', 'Salah', 'Mane']\n"
          ],
          "name": "stdout"
        }
      ]
    },
    {
      "cell_type": "code",
      "metadata": {
        "id": "cxm8O5FNO45d",
        "outputId": "c65d4cbf-3301-4da5-f00d-848e70e90f8c",
        "colab": {
          "base_uri": "https://localhost:8080/",
          "height": 34
        }
      },
      "source": [
        "players.index('Muller')"
      ],
      "execution_count": 52,
      "outputs": [
        {
          "output_type": "execute_result",
          "data": {
            "text/plain": [
              "1"
            ]
          },
          "metadata": {
            "tags": []
          },
          "execution_count": 52
        }
      ]
    },
    {
      "cell_type": "code",
      "metadata": {
        "id": "biJ01C44PCEp",
        "outputId": "3c9c9cc3-77b1-4a9d-e69b-09d863bab19f",
        "colab": {
          "base_uri": "https://localhost:8080/",
          "height": 51
        }
      },
      "source": [
        "more_messi = [\"Messi\",\"Messi\",\"Messi\"]\n",
        "players.extend(more_messi)\n",
        "print(players)\n",
        "players.count('Messi')"
      ],
      "execution_count": 57,
      "outputs": [
        {
          "output_type": "stream",
          "text": [
            "['Messi', 'Muller', 'Ronaldo', 'Mbappe', 'Salah', 'Mane', 'Messi', 'Messi', 'Messi', 'Messi', 'Messi', 'Messi', 'Messi', 'Messi', 'Messi']\n"
          ],
          "name": "stdout"
        },
        {
          "output_type": "execute_result",
          "data": {
            "text/plain": [
              "10"
            ]
          },
          "metadata": {
            "tags": []
          },
          "execution_count": 57
        }
      ]
    },
    {
      "cell_type": "code",
      "metadata": {
        "id": "AJAXz4OWPS6i"
      },
      "source": [
        ""
      ],
      "execution_count": null,
      "outputs": []
    }
  ]
}